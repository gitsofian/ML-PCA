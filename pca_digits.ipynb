{
  "cells": [
    {
      "cell_type": "markdown",
      "metadata": {
        "colab_type": "text",
        "id": "view-in-github"
      },
      "source": [
        "<a href=\"https://colab.research.google.com/github/gitsofian/ML-PCA/blob/developer/pca_digits.ipynb\" target=\"_parent\"><img src=\"https://colab.research.google.com/assets/colab-badge.svg\" alt=\"Open In Colab\"/></a>"
      ]
    },
    {
      "cell_type": "markdown",
      "metadata": {},
      "source": [
        "Hauptcomponenteanalyse\n",
        "Principal Component Analyse - PCA\n",
        "\n",
        "Art: Dimensionsreduktion\n"
      ]
    },
    {
      "cell_type": "code",
      "execution_count": null,
      "metadata": {
        "colab": {
          "base_uri": "https://localhost:8080/",
          "height": 281
        },
        "id": "ug-EGovgzENr",
        "outputId": "9779f43c-2ddb-4c91-9371-9ed67314d7b5"
      },
      "outputs": [],
      "source": [
        "import matplotlib.pyplot as plt\n",
        "import numpy as np\n",
        "from sklearn import datasets\n",
        "from sklearn.decomposition import PCA\n",
        "\n",
        "# Lade Datensatz\n",
        "X, y = datasets.load_digits(return_X_y=True)\n",
        "\n",
        "# Erstelle ein PCA-Objekt\n",
        "pca = PCA(n_components=2)\n",
        "\n",
        "# Führe PCA durch\n",
        "pca.fit(X)\n",
        "reduced_data = pca.transform(X)\n",
        "\n",
        "# Erstelle 2D-Plot\n",
        "fig = plt.figure(1)\n",
        "\n",
        "# Erstelle je Label einen farbigen Plot\n",
        "for label in np.unique(y):\n",
        "  ids = np.where(y == label)\n",
        "  plt.scatter(reduced_data[ids,0], reduced_data[ids,1], label=label)\n",
        "\n",
        "plt.legend()\n",
        "plt.title(\"Attributes of the digits datasets (PCA-reduced_data)\")\n",
        "plt.show()\n",
        "\n"
      ]
    },
    {
      "cell_type": "code",
      "execution_count": null,
      "metadata": {
        "colab": {
          "base_uri": "https://localhost:8080/",
          "height": 248
        },
        "id": "ZXDb1rBI50ob",
        "outputId": "8b8c5caf-642e-41fd-bbb7-5335e55f5c97"
      },
      "outputs": [],
      "source": [
        "# Lade Datensatz\n",
        "X, y = datasets.load_digits(return_X_y=True)\n",
        "\n",
        "# Erstelle ein PCA-Objekt\n",
        "pca = PCA(n_components=3)\n",
        "\n",
        "# Führe PCA durch\n",
        "pca.fit(X)\n",
        "reduced_data = pca.transform(X)\n",
        "\n",
        "# Erstelle 3D-Plot\n",
        "fig = plt.figure(1)\n",
        "ax = fig.add_subplot(projection='3d')\n",
        "\n",
        "# Erstelle je Label einen farbigen Plot\n",
        "for label in np.unique(y):\n",
        "  ids = np.where(y == label)\n",
        "  ax.scatter(reduced_data[ids,0], reduced_data[ids,1], reduced_data[ids,2], label=label)\n",
        "\n",
        "plt.legend()\n",
        "plt.title(\"Attributes of the digits datasets (PCA-reduced_data)\")\n",
        "plt.show()\n"
      ]
    },
    {
      "cell_type": "code",
      "execution_count": null,
      "metadata": {
        "colab": {
          "base_uri": "https://localhost:8080/",
          "height": 496
        },
        "id": "V9-_oyWS_0hV",
        "outputId": "fa2f946c-93c4-4dca-93a7-05f2c1a56e81"
      },
      "outputs": [],
      "source": [
        "# Lade Datensatz\n",
        "X, y = datasets.load_digits(return_X_y=True)\n",
        "\n",
        "# Erstelle ein PCA-Objekt\n",
        "pca = PCA()\n",
        "\n",
        "# Führe PCA durch\n",
        "pca.fit(X)\n",
        "reduced_data = pca.transform(X)\n",
        "\n",
        "# Erstelle 3D-Plot\n",
        "fig = plt.figure(1)\n",
        "ax = fig.add_subplot(projection='3d')\n",
        "\n",
        "# Erstelle je Label einen farbigen Plot\n",
        "for label in np.unique(y):\n",
        "  ids = np.where(y == label)\n",
        "  ax.scatter(reduced_data[ids,0], reduced_data[ids,1], reduced_data[ids,2], label=label)\n",
        "\n",
        "plt.legend()\n",
        "plt.title(\"Attributes of the digits datasets (PCA-reduced_data)\")\n",
        "\n",
        "plt.figure(2)\n",
        "plt.plot(pca.explained_variance_ratio_)\n",
        "\n",
        "plt.show()\n"
      ]
    },
    {
      "cell_type": "code",
      "execution_count": null,
      "metadata": {
        "colab": {
          "base_uri": "https://localhost:8080/",
          "height": 514
        },
        "id": "y1NkLdVsC36J",
        "outputId": "14a6e6c6-0832-4571-9f4c-efb8c20b0e33"
      },
      "outputs": [],
      "source": [
        "# Lade Datensatz\n",
        "X, y = datasets.load_digits(return_X_y=True)\n",
        "\n",
        "# Erstelle ein PCA-Objekt\n",
        "pca = PCA()\n",
        "\n",
        "# Führe PCA durch\n",
        "pca.fit(X)\n",
        "reduced_data = pca.transform(X)\n",
        "\n",
        "n_features = 0\n",
        "sum_of_variance = 0\n",
        "\n",
        "for v in pca.explained_variance_ratio_:\n",
        "  sum_of_variance += v\n",
        "  n_features +=1\n",
        "  if sum_of_variance > 0.9:\n",
        "    break\n",
        "\n",
        "\"\"\"  \n",
        "[sum_of_variance := sum_of_variance + var for var in pca.explained_variance_ratio_ if sum_of_variance < 0.9]\n",
        " \"\"\"\n",
        "print(f'sum of variance {sum_of_variance}, nb features: {n_features}')\n",
        "# rechenen wir mit n_components = n_features\n",
        "pca = PCA(n_components=n_features)\n",
        "\n",
        "# Führe PCA durch\n",
        "pca.fit(X)\n",
        "reduced_data = pca.transform(X)\n",
        "\n",
        "\n",
        "# Erstelle 3D-Plot\n",
        "fig = plt.figure(1)\n",
        "ax = fig.add_subplot(projection='3d')\n",
        "\n",
        "# Erstelle je Label einen farbigen Plot\n",
        "dim = 0*3\n",
        "for label in np.unique(y):\n",
        "  ids = np.where(y == label)\n",
        "  ax.scatter(reduced_data[ids,dim], reduced_data[ids,dim+1], reduced_data[ids,dim+2], label=label)\n",
        "\n",
        "plt.legend()\n",
        "plt.title(\"Attributes of the digits datasets (PCA-reduced_data)\")\n",
        "\n",
        "plt.figure(2)\n",
        "plt.plot(pca.explained_variance_ratio_)\n",
        "\n",
        "plt.show()\n"
      ]
    },
    {
      "cell_type": "markdown",
      "metadata": {},
      "source": [
        "*   Beispiel die funktion cov"
      ]
    },
    {
      "cell_type": "code",
      "execution_count": null,
      "metadata": {
        "id": "ocyfLGtIFLpC"
      },
      "outputs": [],
      "source": [
        "\n",
        "a = reduced_data[:,0]\n",
        "b = reduced_data[:,1]\n",
        "age = [5,8,11,14,17,20]\n",
        "weight = [20,25,30,35,40,45]\n",
        "height = [4,4,4,4,4,4]\n",
        "\n",
        "\n",
        "print(f'Kovarianzmatrix: \\n {np.cov(a,b)}\\n')\n",
        "print(f'Kovarianzmatrix: \\n{np.cov(age,weight)}\\n')\n",
        "\n"
      ]
    },
    {
      "cell_type": "code",
      "execution_count": null,
      "metadata": {},
      "outputs": [],
      "source": [
        "from sklearn.preprocessing import StandardScaler\n",
        "\n",
        "scaler = StandardScaler()\n",
        "\n",
        "age = [5,8,11,14,17,20]\n",
        "weight = [20,25,30,35,40,45]\n",
        "height = [4,4,4,4,4,4]\n",
        "\n",
        "print(scaler.fit(age))\n",
        "print(scaler.mean_)\n"
      ]
    },
    {
      "cell_type": "code",
      "execution_count": null,
      "metadata": {},
      "outputs": [],
      "source": []
    }
  ],
  "metadata": {
    "colab": {
      "authorship_tag": "ABX9TyOSK9a/6TRPAjsAa6FCJjbJ",
      "collapsed_sections": [],
      "include_colab_link": true,
      "name": "pca_digits.ipynb",
      "provenance": []
    },
    "kernelspec": {
      "display_name": "Python 3.10.4 ('nlp-nl')",
      "language": "python",
      "name": "python3"
    },
    "language_info": {
      "codemirror_mode": {
        "name": "ipython",
        "version": 3
      },
      "file_extension": ".py",
      "mimetype": "text/x-python",
      "name": "python",
      "nbconvert_exporter": "python",
      "pygments_lexer": "ipython3",
      "version": "3.10.4"
    },
    "vscode": {
      "interpreter": {
        "hash": "0bb4607b1beb126cfdf0f946f72e4ff99181a217740835d79b8e018f766bc05e"
      }
    }
  },
  "nbformat": 4,
  "nbformat_minor": 0
}
